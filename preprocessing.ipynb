{
 "cells": [
  {
   "cell_type": "code",
   "execution_count": 10,
   "id": "5b4a7985-a318-4a89-be50-dcacc095d018",
   "metadata": {
    "tags": []
   },
   "outputs": [],
   "source": [
    "import hazm\n",
    "import numpy as np\n",
    "import pandas as pd\n",
    "from hazm import sent_tokenize, word_tokenize\n",
    "import nltk\n",
    "from nltk.tokenize import word_tokenize as eng_tokenize\n",
    "# nltk.download('punkt');"
   ]
  },
  {
   "cell_type": "code",
   "execution_count": 7,
   "id": "baa34ed4-4e14-4d92-b226-f444618d1210",
   "metadata": {
    "tags": []
   },
   "outputs": [],
   "source": [
    "farsi_path=\"./PEPC_Bidirectional/wiki_extracted_200k.fa\"\n",
    "english_path=\"./PEPC_Bidirectional/wiki_extracted_200k.en\""
   ]
  },
  {
   "cell_type": "code",
   "execution_count": 8,
   "id": "fc50615a-48ac-40aa-af03-83820d9e31c8",
   "metadata": {
    "tags": []
   },
   "outputs": [],
   "source": [
    "with open(farsi_path,\"r\") as f:\n",
    "    farsi_corpus=f.readlines()\n",
    "with open(english_path,\"r\") as f:\n",
    "    english_corpus=f.readlines()"
   ]
  },
  {
   "cell_type": "code",
   "execution_count": null,
   "id": "ece5bf59-1736-493f-a25e-02a6f0e9846a",
   "metadata": {},
   "outputs": [],
   "source": [
    "class preprocess:\n",
    "    def __init__(self):\n",
    "        self.vocab_fa=[]\n",
    "        self.vocab_en=[]\n",
    "        self.dataset_en=[]\n",
    "        self.dataset_fa=[]\n",
    "        self.EOS=\"_EOS_\"\n",
    "    def Tokenize(self,en,fa):\n",
    "        for i in range(len(en)):\n",
    "            en_tokenized=eng_tokenize(en[i])\n",
    "            fa_tokenized=word_tokenize(fa[i])\n",
    "            en_tokenized.append(self.EOS)\n",
    "            fa_tokenized.append(self.EOS)\n",
    "            self.dataset_en.append(en_tokenized)\n",
    "            self.dataset_fa.append(fa_tokenized)\n",
    "            \n",
    "    def DeleteNumbers(self):\n",
    "        pass\n",
    "    def DeleteEmojis(self):\n",
    "        pass\n",
    "    def Transfrom(self,en_path,fa_path,del_emoji=False,del_numbers=False):\n",
    "        pass"
   ]
  },
  {
   "cell_type": "code",
   "execution_count": null,
   "id": "753664de-231e-4217-ae29-b0c4abe17f35",
   "metadata": {},
   "outputs": [],
   "source": []
  },
  {
   "cell_type": "code",
   "execution_count": null,
   "id": "3eb0cd4e-117a-4c4b-8130-3358a39e7949",
   "metadata": {},
   "outputs": [],
   "source": []
  }
 ],
 "metadata": {
  "kernelspec": {
   "display_name": "AI",
   "language": "python",
   "name": "ai"
  },
  "language_info": {
   "codemirror_mode": {
    "name": "ipython",
    "version": 3
   },
   "file_extension": ".py",
   "mimetype": "text/x-python",
   "name": "python",
   "nbconvert_exporter": "python",
   "pygments_lexer": "ipython3",
   "version": "3.10.12"
  }
 },
 "nbformat": 4,
 "nbformat_minor": 5
}
