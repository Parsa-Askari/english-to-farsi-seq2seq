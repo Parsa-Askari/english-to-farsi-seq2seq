version https://git-lfs.github.com/spec/v1
oid sha256:53db63adf790472a815d1bd5fef96093cdd4f8bae0f4796377a91ddeccba9ae1
size 11356
