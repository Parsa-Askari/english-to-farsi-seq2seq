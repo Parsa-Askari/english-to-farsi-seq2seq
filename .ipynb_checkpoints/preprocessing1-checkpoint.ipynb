version https://git-lfs.github.com/spec/v1
oid sha256:a02f46963e1549ab20fba5fcbd95f83e8782468d0d726b49affbee4a2929515d
size 11063
