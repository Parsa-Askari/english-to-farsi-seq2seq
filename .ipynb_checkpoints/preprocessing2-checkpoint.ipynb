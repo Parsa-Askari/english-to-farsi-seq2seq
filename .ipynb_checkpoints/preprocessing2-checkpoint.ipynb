version https://git-lfs.github.com/spec/v1
oid sha256:ca24da8422c461e7e26969cb5a6ad55b8682dff53fd4fd2e63b0276966803353
size 9430
