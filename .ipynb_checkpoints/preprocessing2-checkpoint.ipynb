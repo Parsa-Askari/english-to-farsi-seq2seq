{
 "cells": [
  {
   "cell_type": "code",
   "execution_count": 1,
   "id": "54bfe576-d62e-492a-a500-ef0ce748045d",
   "metadata": {
    "tags": []
   },
   "outputs": [],
   "source": [
    "import hazm\n",
    "import numpy as np\n",
    "import pandas as pd\n",
    "from hazm import word_tokenize,Normalizer\n",
    "import nltk\n",
    "from nltk.tokenize import word_tokenize as eng_tokenize\n",
    "from tqdm.auto import tqdm\n",
    "import pickle\n",
    "import json\n",
    "import string\n",
    "import re\n",
    "from datasets import load_dataset\n",
    "from torch.utils.data import DataLoader\n",
    "from torch.utils.data import Dataset"
   ]
  },
  {
   "cell_type": "code",
   "execution_count": 2,
   "id": "9a26fd7b-6466-4b2f-a02a-d607630c060e",
   "metadata": {
    "tags": []
   },
   "outputs": [],
   "source": [
    "# next(iter(imdb_dataset))[\"translation\"]\n",
    "dataset=load_dataset(\"tep_en_fa_para\")[\"train\"][\"translation\"]"
   ]
  },
  {
   "cell_type": "code",
   "execution_count": 3,
   "id": "c68205cf-f32d-4303-9398-d7c19bbaa9bb",
   "metadata": {
    "tags": []
   },
   "outputs": [],
   "source": [
    "def clean(farsi_s,eng_s):\n",
    "    farsi_s=re.sub(r\",+\",\" , \",farsi_s)\n",
    "    farsi_s=re.sub(r\"\\.+\",\" . \",farsi_s)\n",
    "    farsi_s=re.sub(r\"\\_+\",\" _ \",farsi_s)\n",
    "    farsi_s=re.sub(r\"\\$\",\"\",farsi_s)\n",
    "    farsi_s=re.sub(r\"#\",\"\",farsi_s)\n",
    "    farsi_s=re.sub(r\"=\",\"\",farsi_s)\n",
    "    farsi_s=re.sub(r\"@\",\"\",farsi_s)\n",
    "    farsi_s=re.sub(r\"\\d\",\"\",farsi_s)\n",
    "    farsi_s=re.sub(r\"~\",\"\",farsi_s)\n",
    "    farsi_s=re.sub(r\"\\'\",\"\",farsi_s)\n",
    "    farsi_s=re.sub(r\">\",\"\",farsi_s)\n",
    "    farsi_s=re.sub(r\"<\",\"\",farsi_s)\n",
    "    farsi_s=re.sub(r\"\\+\",\"\",farsi_s)\n",
    "    farsi_s=re.sub(r\"\\-\",\"\",farsi_s)\n",
    "    farsi_s=re.sub(r\"\\/\",\"\",farsi_s)\n",
    "    farsi_s=re.sub(r\"\\*\",\"\",farsi_s)\n",
    "    farsi_s=re.sub(r\"\\\"\",\"\",farsi_s)\n",
    "    farsi_s=re.sub(r\"\\…+\",\" \",farsi_s)\n",
    "\n",
    "    \n",
    "    eng_s=re.sub(r\",+\",\" , \",eng_s)\n",
    "    eng_s=re.sub(r\"\\.+\",\" . \",eng_s)\n",
    "    eng_s=re.sub(r\"\\_+\",\" _ \",eng_s)\n",
    "    eng_s=re.sub(r\"\\$\",\"\",eng_s)\n",
    "    eng_s=re.sub(r\"#\",\"\",eng_s)\n",
    "    eng_s=re.sub(r\"=\",\"\",eng_s)\n",
    "    eng_s=re.sub(r\"@\",\"\",eng_s)\n",
    "    eng_s=re.sub(r\"\\d\",\"\",eng_s)\n",
    "    eng_s=re.sub(r\"~\",\"\",eng_s)\n",
    "    eng_s=re.sub(r\"\\'\",\"\",eng_s)\n",
    "    eng_s=re.sub(r\">\",\"\",eng_s)\n",
    "    eng_s=re.sub(r\"<\",\"\",eng_s)\n",
    "    eng_s=re.sub(r\"\\+\",\"\",eng_s)\n",
    "    eng_s=re.sub(r\"\\-\",\"\",eng_s)\n",
    "    eng_s=re.sub(r\"\\/\",\"\",eng_s)\n",
    "    eng_s=re.sub(r\"\\*\",\"\",eng_s)\n",
    "    eng_s=re.sub(r\"\\\"\",\"\",eng_s)\n",
    "    return farsi_s,eng_s\n"
   ]
  },
  {
   "cell_type": "code",
   "execution_count": null,
   "id": "c8530b72-170e-46ab-826c-61fcec65de77",
   "metadata": {
    "tags": []
   },
   "outputs": [
    {
     "data": {
      "application/vnd.jupyter.widget-view+json": {
       "model_id": "dc40cd545a2642b2bf28349b8773d2c2",
       "version_major": 2,
       "version_minor": 0
      },
      "text/plain": [
       "  0%|          | 0/612087 [00:00<?, ?it/s]"
      ]
     },
     "metadata": {},
     "output_type": "display_data"
    }
   ],
   "source": [
    "dataset_en=[]\n",
    "dataset_fa=[]\n",
    "vocab_en=[]\n",
    "vocab_fa=[]\n",
    "normalizer = Normalizer()\n",
    "for dic in tqdm(dataset):\n",
    "    farsi_s=dic[\"fa\"]\n",
    "    eng_s=dic[\"en\"]\n",
    "    farsi_s,eng_s=clean(farsi_s,eng_s)\n",
    "    dataset_en.append(eng_tokenize(eng_s)+[\"_EOS_\"])\n",
    "    dataset_fa.append(word_tokenize(normalizer.normalize(farsi_s))+[\"_EOS_\"])\n",
    "    vocab_en+=dataset_en[-1]\n",
    "    vocab_fa+=dataset_fa[-1]\n",
    "    "
   ]
  },
  {
   "cell_type": "code",
   "execution_count": null,
   "id": "867ca41e-cd88-4e91-82ff-bd6c9c23e4f1",
   "metadata": {},
   "outputs": [],
   "source": [
    "vocab_en=sorted(list(set(vocab_en)))\n",
    "vocab_fa=sorted(list(set(vocab_fa)))"
   ]
  },
  {
   "cell_type": "code",
   "execution_count": null,
   "id": "470f33d8-0974-4a91-9456-cea3db18eefe",
   "metadata": {
    "tags": []
   },
   "outputs": [],
   "source": [
    "en_index={}\n",
    "fa_index={}\n",
    "for i,x in enumerate(vocab_en):\n",
    "    en_index[x]=i\n",
    "for i,x in enumerate(vocab_fa):\n",
    "    fa_index[x]=i"
   ]
  }
 ],
 "metadata": {
  "kernelspec": {
   "display_name": "AI",
   "language": "python",
   "name": "ai"
  },
  "language_info": {
   "codemirror_mode": {
    "name": "ipython",
    "version": 3
   },
   "file_extension": ".py",
   "mimetype": "text/x-python",
   "name": "python",
   "nbconvert_exporter": "python",
   "pygments_lexer": "ipython3",
   "version": "3.10.12"
  }
 },
 "nbformat": 4,
 "nbformat_minor": 5
}
