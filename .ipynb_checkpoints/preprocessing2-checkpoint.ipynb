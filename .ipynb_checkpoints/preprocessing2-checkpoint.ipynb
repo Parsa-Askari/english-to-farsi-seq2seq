version https://git-lfs.github.com/spec/v1
oid sha256:e60cd6c6588e3f686d241075458ffb3548b995a599414ce3aa8e2b53b38e5d5b
size 9491
