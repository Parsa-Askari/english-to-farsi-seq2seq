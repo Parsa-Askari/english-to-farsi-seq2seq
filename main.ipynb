{
 "cells": [
  {
   "cell_type": "code",
   "execution_count": 24,
   "id": "f3c6369c-abc1-424c-bd75-81f1c7c06d93",
   "metadata": {},
   "outputs": [],
   "source": [
    "import hazm\n",
    "import numpy as np\n",
    "import pandas as pd\n",
    "from hazm import sent_tokenize, word_tokenize\n",
    "import nltk\n",
    "from nltk.tokenize import word_tokenize as eng_tokenize"
   ]
  },
  {
   "cell_type": "code",
   "execution_count": 25,
   "id": "137639ac-e490-4add-96f8-8ecd39a8a965",
   "metadata": {
    "tags": []
   },
   "outputs": [
    {
     "name": "stderr",
     "output_type": "stream",
     "text": [
      "[nltk_data] Downloading package punkt to /home/parsa/nltk_data...\n",
      "[nltk_data]   Unzipping tokenizers/punkt.zip.\n"
     ]
    },
    {
     "data": {
      "text/plain": [
       "True"
      ]
     },
     "execution_count": 25,
     "metadata": {},
     "output_type": "execute_result"
    }
   ],
   "source": [
    "nltk.download('punkt');"
   ]
  },
  {
   "cell_type": "code",
   "execution_count": 4,
   "id": "e052241b-061c-4ba9-81fe-8614e711db80",
   "metadata": {
    "tags": []
   },
   "outputs": [],
   "source": [
    "farsi_path=\"./PEPC_Bidirectional/wiki_extracted_200k.fa\"\n",
    "english_path=\"./PEPC_Bidirectional/wiki_extracted_200k.en\""
   ]
  },
  {
   "cell_type": "code",
   "execution_count": 5,
   "id": "c6417f4a-51aa-4656-9d7e-b6575499abf7",
   "metadata": {
    "tags": []
   },
   "outputs": [],
   "source": [
    "with open(farsi_path,\"r\") as f:\n",
    "    farsi_corpus=f.readlines()\n",
    "with open(english_path,\"r\") as f:\n",
    "    english_corpus=f.readlines()"
   ]
  },
  {
   "cell_type": "code",
   "execution_count": 26,
   "id": "07e41b31-b49b-444b-9e5f-d6235e107f64",
   "metadata": {
    "tags": []
   },
   "outputs": [
    {
     "data": {
      "text/plain": [
       "['On', 'the', 'eve', 'of', 'his', 'execution', 'he', 'talked', 'of', 'suicide']"
      ]
     },
     "execution_count": 26,
     "metadata": {},
     "output_type": "execute_result"
    }
   ],
   "source": []
  },
  {
   "cell_type": "code",
   "execution_count": null,
   "id": "67e595ef-fd89-4b7b-934c-6af1a5904a7f",
   "metadata": {},
   "outputs": [],
   "source": []
  }
 ],
 "metadata": {
  "kernelspec": {
   "display_name": "AI",
   "language": "python",
   "name": "ai"
  },
  "language_info": {
   "codemirror_mode": {
    "name": "ipython",
    "version": 3
   },
   "file_extension": ".py",
   "mimetype": "text/x-python",
   "name": "python",
   "nbconvert_exporter": "python",
   "pygments_lexer": "ipython3",
   "version": "3.10.12"
  }
 },
 "nbformat": 4,
 "nbformat_minor": 5
}
