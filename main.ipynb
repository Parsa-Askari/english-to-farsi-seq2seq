version https://git-lfs.github.com/spec/v1
oid sha256:de9e022e96af0c5c42c04aa7d86a03ff27317a08c7f10d23591c92cb8a54106a
size 6982
