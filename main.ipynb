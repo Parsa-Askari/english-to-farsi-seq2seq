{
 "cells": [
  {
   "cell_type": "code",
   "execution_count": 8,
   "id": "f3c6369c-abc1-424c-bd75-81f1c7c06d93",
   "metadata": {},
   "outputs": [],
   "source": [
    "import hazm\n",
    "import numpy as np\n",
    "import pandas as pd\n",
    "from hazm import sent_tokenize, word_tokenize\n",
    "import nltk\n",
    "from nltk.tokenize import word_tokenize as eng_tokenize\n",
    "import pickle\n",
    "import json\n",
    "import torch.nn as nn\n",
    "import torch"
   ]
  },
  {
   "cell_type": "code",
   "execution_count": 18,
   "id": "4abf63d0-695e-4bb0-b874-ff25da281ec6",
   "metadata": {
    "tags": []
   },
   "outputs": [],
   "source": [
    "class InputNetwork(nn.Module):\n",
    "    def __init__(self,vocab_size,size_of_vector):\n",
    "        super().__init__()\n",
    "        self.embeding=nn.Linear(in_features=vocab_size,out_features=size_of_vector)\n",
    "    def __call__(self,x):\n",
    "        x=self.embeding(x)\n",
    "        return x"
   ]
  },
  {
   "cell_type": "code",
   "execution_count": null,
   "id": "1115d4af-af85-4884-97d5-5e6f86149fc4",
   "metadata": {},
   "outputs": [],
   "source": []
  },
  {
   "cell_type": "code",
   "execution_count": 21,
   "id": "6dac53f5-2d76-47a4-a863-15187b712f9e",
   "metadata": {
    "tags": []
   },
   "outputs": [
    {
     "data": {
      "text/plain": [
       "torch.Size([1])"
      ]
     },
     "execution_count": 21,
     "metadata": {},
     "output_type": "execute_result"
    }
   ],
   "source": [
    "x=torch.tensor([[0,0,0,1],[1,0,0,0]])\n",
    "L=InputNetwork(4,1)\n",
    "L(x[0].float()).shape"
   ]
  },
  {
   "cell_type": "code",
   "execution_count": null,
   "id": "6cc59254-6e4a-4364-ac03-a532ee0e47c2",
   "metadata": {},
   "outputs": [],
   "source": []
  },
  {
   "cell_type": "code",
   "execution_count": 4,
   "id": "c6417f4a-51aa-4656-9d7e-b6575499abf7",
   "metadata": {
    "tags": []
   },
   "outputs": [],
   "source": [
    "# with open(\"./preprocessed/vocab_en\", \"rb\") as fp:   # Unpickling\n",
    "#     vocab_en = pickle.load(fp)\n",
    "# with open(\"./preprocessed/vocab_fa\", \"rb\") as fp:   # Unpickling\n",
    "#     vocab_fp = pickle.load(fp)\n",
    "# with open(\"./preprocessed/dataset_en\", \"rb\") as fp:   # Unpickling\n",
    "#     dataset_en = pickle.load(fp)\n",
    "# with open(\"./preprocessed/dataset_fa\", \"rb\") as fp:   # Unpickling\n",
    "#     dataset_fa = pickle.load(fp)\n",
    "# with open(\"./preprocessed/en_index.json\", \"r\") as fp:   #Pickling\n",
    "#     en_index=json.load(fp)\n",
    "# with open(\"./preprocessed/fa_index.json\", \"r\") as fp:   #Pickling\n",
    "#     fa_index=json.load(fp)"
   ]
  },
  {
   "cell_type": "code",
   "execution_count": 7,
   "id": "e7bd7e45-0ef9-4365-914d-8370e5666106",
   "metadata": {
    "tags": []
   },
   "outputs": [],
   "source": []
  },
  {
   "cell_type": "code",
   "execution_count": 8,
   "id": "07e41b31-b49b-444b-9e5f-d6235e107f64",
   "metadata": {
    "tags": []
   },
   "outputs": [
    {
     "data": {
      "text/plain": [
       "{}"
      ]
     },
     "execution_count": 8,
     "metadata": {},
     "output_type": "execute_result"
    }
   ],
   "source": [
    "fa_index"
   ]
  }
 ],
 "metadata": {
  "kernelspec": {
   "display_name": "AI",
   "language": "python",
   "name": "ai"
  },
  "language_info": {
   "codemirror_mode": {
    "name": "ipython",
    "version": 3
   },
   "file_extension": ".py",
   "mimetype": "text/x-python",
   "name": "python",
   "nbconvert_exporter": "python",
   "pygments_lexer": "ipython3",
   "version": "3.10.12"
  }
 },
 "nbformat": 4,
 "nbformat_minor": 5
}
